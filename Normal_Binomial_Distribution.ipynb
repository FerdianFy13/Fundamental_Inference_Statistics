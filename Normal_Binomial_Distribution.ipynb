{
  "nbformat": 4,
  "nbformat_minor": 0,
  "metadata": {
    "colab": {
      "name": "Normal_Binomial_Distribution.ipynb",
      "provenance": [],
      "authorship_tag": "ABX9TyOUCQJGBS0h48trS2ohryXA"
    },
    "kernelspec": {
      "name": "python3",
      "display_name": "Python 3"
    },
    "language_info": {
      "name": "python"
    }
  },
  "cells": [
    {
      "cell_type": "markdown",
      "source": [
        "# Exercise 1"
      ],
      "metadata": {
        "id": "ibcTPFt-Vxok"
      }
    },
    {
      "cell_type": "code",
      "execution_count": null,
      "metadata": {
        "colab": {
          "base_uri": "https://localhost:8080/"
        },
        "id": "yQuhH5yLLhCh",
        "outputId": "065cebfd-1e52-400d-c8a2-98382b58e9de"
      },
      "outputs": [
        {
          "output_type": "stream",
          "name": "stdout",
          "text": [
            "np:21.15, nq:23.85\n",
            "P: 0.31106888687198175\n"
          ]
        }
      ],
      "source": [
        "from scipy import stats\n",
        "import math\n",
        "n = 45\n",
        "p = 0.47\n",
        "q = 0.53\n",
        "np = n * p\n",
        "nq = n * q\n",
        "print(f'np:{np}, nq:{nq}')\n",
        "\n",
        "mu = np\n",
        "sigma = math.sqrt(n * p * q)\n",
        "x = 19.5\n",
        "z_score = (x - mu) / sigma\n",
        "P = stats.norm.cdf(z_score) \n",
        "print(f'P: {P}')"
      ]
    },
    {
      "cell_type": "code",
      "source": [
        "from scipy import stats\n",
        "import numpy as np\n",
        "import matplotlib.pyplot as plt\n",
        "\n",
        "def draw_z_score(x, cond, mu=0, sigma=1):\n",
        "    y = stats.norm.pdf(x, mu, sigma)\n",
        "    z = x[cond]\n",
        "    plt.plot(x, y, \"r\")\n",
        "    plt.fill_between(z, 0, stats.norm.pdf(z, mu, sigma))\n",
        "    plt.show()\n",
        "\n",
        "x = np.arange(-3, 3, 0.001)\n",
        "draw_z_score(x, x<z_score)"
      ],
      "metadata": {
        "colab": {
          "base_uri": "https://localhost:8080/",
          "height": 265
        },
        "id": "88y8Nn8SV1h-",
        "outputId": "05f541e4-528c-40ac-f8f3-254a3912eed7"
      },
      "execution_count": null,
      "outputs": [
        {
          "output_type": "display_data",
          "data": {
            "text/plain": [
              "<Figure size 432x288 with 1 Axes>"
            ],
            "image/png": "[encoded data removed]"
          },
          "metadata": {
            "needs_background": "light"
          }
        }
      ]
    },
    {
      "cell_type": "markdown",
      "source": [
        "# Exercise 2"
      ],
      "metadata": {
        "id": "MUstMVe4XQa1"
      }
    },
    {
      "cell_type": "code",
      "source": [
        "from scipy import stats\n",
        "import math\n",
        "n = 200\n",
        "p = 0.58\n",
        "q = 0.42\n",
        "np = n * p\n",
        "nq = n * q\n",
        "print(f'np:{np}, nq:{nq}')\n",
        "\n",
        "mu = np\n",
        "sigma = math.sqrt(n * p * q)\n",
        "x = 119.5\n",
        "z_score = (x - mu) / sigma\n",
        "P = 1 - stats.norm.cdf(z_score) \n",
        "print(f'P: {P}')"
      ],
      "metadata": {
        "colab": {
          "base_uri": "https://localhost:8080/"
        },
        "id": "M9JWx6k9XVDk",
        "outputId": "fe752bac-6745-4507-a55f-ed5eccc5ffae"
      },
      "execution_count": 5,
      "outputs": [
        {
          "output_type": "stream",
          "name": "stdout",
          "text": [
            "np:115.99999999999999, nq:84.0\n",
            "P: 0.3080326037466906\n"
          ]
        }
      ]
    },
    {
      "cell_type": "code",
      "source": [
        "from scipy import stats\n",
        "import numpy as np\n",
        "import matplotlib.pyplot as plt\n",
        "\n",
        "def draw_z_score(x, cond, mu=0, sigma=1):\n",
        "    y = stats.norm.pdf(x, mu, sigma)\n",
        "    z = x[cond]\n",
        "    plt.plot(x, y, \"g-o\")\n",
        "    plt.fill_between(z, 0, stats.norm.pdf(z, mu, sigma))\n",
        "    plt.show()\n",
        "\n",
        "x = np.arange(-3, 3, 0.001)\n",
        "draw_z_score(x, x>z_score)"
      ],
      "metadata": {
        "colab": {
          "base_uri": "https://localhost:8080/",
          "height": 265
        },
        "id": "Zx3q9yp3XVOk",
        "outputId": "7c4b1e7f-1761-4828-d299-3641c19f22ab"
      },
      "execution_count": 7,
      "outputs": [
        {
          "output_type": "display_data",
          "data": {
            "text/plain": [
              "<Figure size 432x288 with 1 Axes>"
            ],
            "image/png": "[encoded data removed]"
          },
          "metadata": {
            "needs_background": "light"
          }
        }
      ]
    },
    {
      "cell_type": "markdown",
      "source": [
        "# Exercise 3"
      ],
      "metadata": {
        "id": "F2KBUuW_Yhau"
      }
    },
    {
      "cell_type": "code",
      "source": [
        "from scipy import stats\n",
        "import math\n",
        "n = 75\n",
        "p = 62.4 / 100\n",
        "q = 1 - p\n",
        "np = n * p\n",
        "nq = n * q\n",
        "print(f'np:{np}, nq:{nq}')\n",
        "\n",
        "mu = np\n",
        "sigma = math.sqrt(n * p * q)\n",
        "x1 = 47.5\n",
        "x2 = 48.5\n",
        "z_1 = (x1 - mu) / sigma\n",
        "z_2 = (x2 - mu) / sigma\n",
        "P = stats.norm.cdf(z_2) - stats.norm.cdf(z_1) \n",
        "print(f'P: {P}')"
      ],
      "metadata": {
        "colab": {
          "base_uri": "https://localhost:8080/"
        },
        "id": "2kEIzdwoYmR0",
        "outputId": "ab9df68b-1769-4883-bf9f-31e6497283cb"
      },
      "execution_count": 10,
      "outputs": [
        {
          "output_type": "stream",
          "name": "stdout",
          "text": [
            "np:46.8, nq:28.2\n",
            "P: 0.09109195249198843\n"
          ]
        }
      ]
    },
    {
      "cell_type": "code",
      "source": [
        "from scipy import stats\n",
        "import numpy as np\n",
        "import matplotlib.pyplot as plt\n",
        "\n",
        "def draw_z_score(x, cond, mu=0, sigma=1):\n",
        "    y = stats.norm.pdf(x, mu, sigma)\n",
        "    z = x[cond]\n",
        "    plt.plot(x, y, \"y--\")\n",
        "    plt.fill_between(z, 0, stats.norm.pdf(z, mu, sigma))\n",
        "    plt.show()\n",
        "\n",
        "x = np.arange(-3, 3, 0.001)\n",
        "draw_z_score(x, (z_1<x) & (x<z_2))"
      ],
      "metadata": {
        "colab": {
          "base_uri": "https://localhost:8080/",
          "height": 265
        },
        "id": "nzfHkjt0Y23n",
        "outputId": "2e20506b-ea17-4b7c-c131-8df5ac481de1"
      },
      "execution_count": 12,
      "outputs": [
        {
          "output_type": "display_data",
          "data": {
            "text/plain": [
              "<Figure size 432x288 with 1 Axes>"
            ],
            "image/png": "[encoded data removed]"
          },
          "metadata": {
            "needs_background": "light"
          }
        }
      ]
    }
  ]
}