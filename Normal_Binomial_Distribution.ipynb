{
  "nbformat": 4,
  "nbformat_minor": 0,
  "metadata": {
    "colab": {
      "name": "Normal_Binomial_Distribution.ipynb",
      "provenance": [],
      "authorship_tag": "ABX9TyPbUOKtb7gHRC8xGbXJoHsG"
    },
    "kernelspec": {
      "name": "python3",
      "display_name": "Python 3"
    },
    "language_info": {
      "name": "python"
    }
  },
  "cells": [
    {
      "cell_type": "markdown",
      "source": [
        "# Exercise 1"
      ],
      "metadata": {
        "id": "ibcTPFt-Vxok"
      }
    },
    {
      "cell_type": "code",
      "execution_count": null,
      "metadata": {
        "colab": {
          "base_uri": "https://localhost:8080/"
        },
        "id": "yQuhH5yLLhCh",
        "outputId": "065cebfd-1e52-400d-c8a2-98382b58e9de"
      },
      "outputs": [
        {
          "output_type": "stream",
          "name": "stdout",
          "text": [
            "np:21.15, nq:23.85\n",
            "P: 0.31106888687198175\n"
          ]
        }
      ],
      "source": [
        "from scipy import stats\n",
        "import math\n",
        "n = 45\n",
        "p = 0.47\n",
        "q = 0.53\n",
        "np = n * p\n",
        "nq = n * q\n",
        "print(f'np:{np}, nq:{nq}')\n",
        "\n",
        "mu = np\n",
        "sigma = math.sqrt(n * p * q)\n",
        "x = 19.5\n",
        "z_score = (x - mu) / sigma\n",
        "P = stats.norm.cdf(z_score) \n",
        "print(f'P: {P}')"
      ]
    },
    {
      "cell_type": "code",
      "source": [
        "from scipy import stats\n",
        "import numpy as np\n",
        "import matplotlib.pyplot as plt\n",
        "\n",
        "def draw_z_score(x, cond, mu=0, sigma=1):\n",
        "    y = stats.norm.pdf(x, mu, sigma)\n",
        "    z = x[cond]\n",
        "    plt.plot(x, y, \"r\")\n",
        "    plt.fill_between(z, 0, stats.norm.pdf(z, mu, sigma))\n",
        "    plt.show()\n",
        "\n",
        "x = np.arange(-3, 3, 0.001)\n",
        "draw_z_score(x, x<z_score)"
      ],
      "metadata": {
        "colab": {
          "base_uri": "https://localhost:8080/",
          "height": 265
        },
        "id": "88y8Nn8SV1h-",
        "outputId": "05f541e4-528c-40ac-f8f3-254a3912eed7"
      },
      "execution_count": null,
      "outputs": [
        {
          "output_type": "display_data",
          "data": {
            "text/plain": [
              "<Figure size 432x288 with 1 Axes>"
            ],
            "image/png": "[encoded data removed]"
          },
          "metadata": {
            "needs_background": "light"
          }
        }
      ]
    }
  ]
}