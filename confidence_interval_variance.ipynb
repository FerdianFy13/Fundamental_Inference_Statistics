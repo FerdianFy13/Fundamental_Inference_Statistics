{
  "nbformat": 4,
  "nbformat_minor": 0,
  "metadata": {
    "colab": {
      "name": "confidence_interval_variance.ipynb",
      "provenance": [],
      "authorship_tag": "ABX9TyOSg9bQLaThN5ax1TNexSkD"
    },
    "kernelspec": {
      "name": "python3",
      "display_name": "Python 3"
    },
    "language_info": {
      "name": "python"
    }
  },
  "cells": [
    {
      "cell_type": "markdown",
      "source": [
        "# Exercise 1"
      ],
      "metadata": {
        "id": "EM4n30u3ssfs"
      }
    },
    {
      "cell_type": "code",
      "execution_count": null,
      "metadata": {
        "colab": {
          "base_uri": "https://localhost:8080/"
        },
        "id": "Y8Jg7cpIsnDs",
        "outputId": "4365379b-2297-457e-c338-715f39b6a5a2"
      },
      "outputs": [
        {
          "output_type": "stream",
          "name": "stdout",
          "text": [
            "xr2 : 0.025000000000000022\n",
            "xl2 : 0.975\n",
            "\n",
            "xr2 critical : 30.19100912163982\n",
            "xl2 critical : 7.56418644957757\n"
          ]
        },
        {
          "output_type": "execute_result",
          "data": {
            "text/plain": [
              "(7.56418644957757, 30.19100912163982)"
            ]
          },
          "metadata": {},
          "execution_count": 4
        }
      ],
      "source": [
        "from scipy.stats import chi2\n",
        "from math import sqrt\n",
        "\n",
        "n = 18\n",
        "df = n - 1\n",
        "c = 95 / 100\n",
        "\n",
        "xr2 = (1 - c) / 2\n",
        "xl2 = (1 + c) / 2\n",
        "\n",
        "print(f\"xr2 : {xr2}\")\n",
        "print(f\"xl2 : {xl2}\\n\")\n",
        "\n",
        "xr2_critical = chi2.ppf(1 - xr2, df)\n",
        "xl2_critical = chi2.ppf(1 - xl2, df)\n",
        "print(f\"xr2 critical : {xr2_critical}\")\n",
        "print(f\"xl2 critical : {xl2_critical}\")\n",
        "\n",
        "# or\n",
        "chi2.interval(c, df)"
      ]
    },
    {
      "cell_type": "markdown",
      "source": [
        "# Exercise 2"
      ],
      "metadata": {
        "id": "umLzKIoYOwao"
      }
    },
    {
      "cell_type": "code",
      "source": [
        "from scipy.stats import chi2\n",
        "from math import sqrt\n",
        "\n",
        "n = 30\n",
        "df = n - 1\n",
        "s = 1.20\n",
        "s_2 = s ** 2\n",
        "c = 99 / 100\n",
        "\n",
        "xr2 = (1 - c) / 2\n",
        "xl2 = (1 + c) / 2\n",
        "\n",
        "print(f\"xr2 : {xr2}\")\n",
        "print(f\"xl2 : {xl2}\\n\")\n",
        "\n",
        "chi2.interval(c, df)\n",
        "\n",
        "xr2_critical = chi2.ppf(1-xr2, df)\n",
        "xl2_critical = chi2.ppf(1-xl2, df)\n",
        "print(f'xr2_critical: {xr2_critical}')\n",
        "print(f'xl2_critical: {xl2_critical}')\n",
        "print()\n",
        "\n",
        "right_end_point = df * s_2 / xr2_critical\n",
        "left_end_point = df * s_2 / xl2_critical\n",
        "print(f'right_end_point (variance): {right_end_point}')\n",
        "print(f'left_end_point (variance): {left_end_point}')\n",
        "print()\n",
        "\n",
        "print(f'right_end_point (sigma): {sqrt(right_end_point)}')\n",
        "print(f'left_end_point (sigma): {sqrt(left_end_point)}')"
      ],
      "metadata": {
        "colab": {
          "base_uri": "https://localhost:8080/"
        },
        "id": "dMCe0BOhOyph",
        "outputId": "e0dbfccc-bd10-4c90-dda2-eaff85d0cef7"
      },
      "execution_count": 6,
      "outputs": [
        {
          "output_type": "stream",
          "name": "stdout",
          "text": [
            "xr2 : 0.0050000000000000044\n",
            "xl2 : 0.995\n",
            "\n",
            "xr2_critical: 52.335617785933614\n",
            "xl2_critical: 13.121148887960413\n",
            "\n",
            "right_end_point (variance): 0.7979269523636721\n",
            "left_end_point (variance): 3.1826481321553914\n",
            "\n",
            "right_end_point (sigma): 0.8932675704197887\n",
            "left_end_point (sigma): 1.783997794885238\n"
          ]
        }
      ]
    }
  ]
}