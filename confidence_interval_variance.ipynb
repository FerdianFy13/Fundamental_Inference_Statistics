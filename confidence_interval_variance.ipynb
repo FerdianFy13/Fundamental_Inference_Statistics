{
  "nbformat": 4,
  "nbformat_minor": 0,
  "metadata": {
    "colab": {
      "name": "confidence_interval_variance.ipynb",
      "provenance": [],
      "authorship_tag": "ABX9TyNVb/q0wrZxvgroMAb4vkRq"
    },
    "kernelspec": {
      "name": "python3",
      "display_name": "Python 3"
    },
    "language_info": {
      "name": "python"
    }
  },
  "cells": [
    {
      "cell_type": "markdown",
      "source": [
        "# Exercise 1"
      ],
      "metadata": {
        "id": "EM4n30u3ssfs"
      }
    },
    {
      "cell_type": "code",
      "execution_count": 4,
      "metadata": {
        "colab": {
          "base_uri": "https://localhost:8080/"
        },
        "id": "Y8Jg7cpIsnDs",
        "outputId": "4365379b-2297-457e-c338-715f39b6a5a2"
      },
      "outputs": [
        {
          "output_type": "stream",
          "name": "stdout",
          "text": [
            "xr2 : 0.025000000000000022\n",
            "xl2 : 0.975\n",
            "\n",
            "xr2 critical : 30.19100912163982\n",
            "xl2 critical : 7.56418644957757\n"
          ]
        },
        {
          "output_type": "execute_result",
          "data": {
            "text/plain": [
              "(7.56418644957757, 30.19100912163982)"
            ]
          },
          "metadata": {},
          "execution_count": 4
        }
      ],
      "source": [
        "from scipy.stats import chi2\n",
        "from math import sqrt\n",
        "\n",
        "n = 18\n",
        "df = n - 1\n",
        "c = 95 / 100\n",
        "\n",
        "xr2 = (1 - c) / 2\n",
        "xl2 = (1 + c) / 2\n",
        "\n",
        "print(f\"xr2 : {xr2}\")\n",
        "print(f\"xl2 : {xl2}\\n\")\n",
        "\n",
        "xr2_critical = chi2.ppf(1 - xr2, df)\n",
        "xl2_critical = chi2.ppf(1 - xl2, df)\n",
        "print(f\"xr2 critical : {xr2_critical}\")\n",
        "print(f\"xl2 critical : {xl2_critical}\")\n",
        "\n",
        "# or\n",
        "chi2.interval(c, df)"
      ]
    }
  ]
}