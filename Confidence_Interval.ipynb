{
  "nbformat": 4,
  "nbformat_minor": 0,
  "metadata": {
    "colab": {
      "name": "Confidence_Interval.ipynb",
      "provenance": [],
      "collapsed_sections": [],
      "authorship_tag": "ABX9TyOydqGcZabgFCOVUqzhcJLL"
    },
    "kernelspec": {
      "name": "python3",
      "display_name": "Python 3"
    },
    "language_info": {
      "name": "python"
    }
  },
  "cells": [
    {
      "cell_type": "code",
      "execution_count": 1,
      "metadata": {
        "colab": {
          "base_uri": "https://localhost:8080/"
        },
        "id": "CFE9b8c7e_Wh",
        "outputId": "b8d3d66d-6ab8-49f0-f64d-1c38c856134d"
      },
      "outputs": [
        {
          "output_type": "stream",
          "name": "stdout",
          "text": [
            "E: 2.448190377603018\n"
          ]
        }
      ],
      "source": [
        "from scipy import stats\n",
        "import math \n",
        "\n",
        "c = 95/100\n",
        "sigma = 7.9\n",
        "n = 40\n",
        "p = 1 - ((1-c) / 2)\n",
        "\n",
        "zc = stats.norm.ppf(p)\n",
        "\n",
        "E = zc * sigma / math.sqrt(n)\n",
        "print(f'E: {E}')"
      ]
    }
  ]
}