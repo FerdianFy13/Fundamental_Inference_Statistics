{
  "nbformat": 4,
  "nbformat_minor": 0,
  "metadata": {
    "colab": {
      "name": "Confidence_Interval.ipynb",
      "provenance": [],
      "collapsed_sections": [],
      "authorship_tag": "ABX9TyPqvT1BPOMOVGzccMEGO80g"
    },
    "kernelspec": {
      "name": "python3",
      "display_name": "Python 3"
    },
    "language_info": {
      "name": "python"
    }
  },
  "cells": [
    {
      "cell_type": "markdown",
      "source": [
        "# Exercise 1"
      ],
      "metadata": {
        "id": "ycSNCXffhStQ"
      }
    },
    {
      "cell_type": "code",
      "execution_count": null,
      "metadata": {
        "colab": {
          "base_uri": "https://localhost:8080/"
        },
        "id": "CFE9b8c7e_Wh",
        "outputId": "b8d3d66d-6ab8-49f0-f64d-1c38c856134d"
      },
      "outputs": [
        {
          "output_type": "stream",
          "name": "stdout",
          "text": [
            "E: 2.448190377603018\n"
          ]
        }
      ],
      "source": [
        "from scipy import stats\n",
        "import math \n",
        "\n",
        "c = 95/100\n",
        "sigma = 7.9\n",
        "n = 40\n",
        "p = 1 - ((1-c) / 2)\n",
        "\n",
        "zc = stats.norm.ppf(p)\n",
        "\n",
        "E = zc * sigma / math.sqrt(n)\n",
        "print(f'E: {E}')"
      ]
    },
    {
      "cell_type": "markdown",
      "source": [
        "# Exercise 2"
      ],
      "metadata": {
        "id": "tfh5eDYahV5m"
      }
    },
    {
      "cell_type": "code",
      "source": [
        "from scipy import stats\n",
        "import math\n",
        "\n",
        "n = 40\n",
        "sigma = 7.9\n",
        "x_bar = 29.6\n",
        "\n",
        "c = 95/100\n",
        "p = 1 - (1 - c)/ 2\n",
        "\n",
        "zc = stats.norm.ppf(p)\n",
        "E = zc * sigma / math.sqrt(n)\n",
        "\n",
        "print(f\"E : {E}\")\n",
        "print(f\"interval: from {x_bar - E} to {x_bar + E}\")"
      ],
      "metadata": {
        "colab": {
          "base_uri": "https://localhost:8080/"
        },
        "id": "MqQO_KmVhYii",
        "outputId": "918eb935-effe-40db-fd6c-a9d2df6e17d3"
      },
      "execution_count": null,
      "outputs": [
        {
          "output_type": "stream",
          "name": "stdout",
          "text": [
            "E : 2.448190377603018\n",
            "interval: from 27.151809622396982 to 32.04819037760302\n"
          ]
        }
      ]
    },
    {
      "cell_type": "code",
      "source": [
        "from scipy import stats\n",
        "from math import sqrt\n",
        "\n",
        "n = 40\n",
        "sigma = 7.9\n",
        "x_bar = 29.6\n",
        "c = 95 / 100\n",
        "sigma_x_bar = sigma / sqrt(n)\n",
        "\n",
        "stats.norm.interval(c, loc = x_bar, scale = sigma_x_bar)"
      ],
      "metadata": {
        "colab": {
          "base_uri": "https://localhost:8080/"
        },
        "id": "yicuSEMziIRz",
        "outputId": "5e9c6a64-6e1b-4f77-b696-2f3556608ab9"
      },
      "execution_count": null,
      "outputs": [
        {
          "output_type": "execute_result",
          "data": {
            "text/plain": [
              "(27.151809622396982, 32.04819037760302)"
            ]
          },
          "metadata": {},
          "execution_count": 3
        }
      ]
    },
    {
      "cell_type": "markdown",
      "source": [
        "# Exercise 3"
      ],
      "metadata": {
        "id": "VDLrSfgDmWtt"
      }
    },
    {
      "cell_type": "code",
      "source": [
        "# cara satu dengan cara sederhana\n",
        "from scipy import stats\n",
        "from math import sqrt\n",
        "\n",
        "n = 20\n",
        "x_bar = 22.9\n",
        "sigma = 1.5\n",
        "c = 90/100\n",
        "\n",
        "p = 1 - (1 - c) / 2\n",
        "zc = stats.norm.ppf(p)\n",
        "print(f\"z score : {zc}\")\n",
        "\n",
        "E = zc * sigma / sqrt(n)\n",
        "print(f\"E : {E}\")\n",
        "\n",
        "print(f\"interval: from {x_bar - E} to {x_bar + E}\")\n"
      ],
      "metadata": {
        "colab": {
          "base_uri": "https://localhost:8080/"
        },
        "id": "98sP471CmZBI",
        "outputId": "7cdba5c7-fc80-43d4-cb4e-2f8d4c7e07ec"
      },
      "execution_count": null,
      "outputs": [
        {
          "output_type": "stream",
          "name": "stdout",
          "text": [
            "z score : 1.6448536269514722\n",
            "E : 0.5517006784350857\n",
            "interval: from 22.348299321564912 to 23.451700678435085\n"
          ]
        }
      ]
    },
    {
      "cell_type": "code",
      "source": [
        "# cara dua dengan menggunakan cara cepat\n",
        "from scipy import stats\n",
        "from math import sqrt\n",
        "\n",
        "n = 20\n",
        "x_bar = 22.9\n",
        "sigma = 1.5\n",
        "c = 90/100\n",
        "\n",
        "sigma_x_bar = sigma / sqrt(n)\n",
        "\n",
        "stats.norm.interval(c, loc = x_bar, scale = sigma_x_bar)\n"
      ],
      "metadata": {
        "colab": {
          "base_uri": "https://localhost:8080/"
        },
        "id": "5g9INArHn1vZ",
        "outputId": "e0c00c61-faec-4713-cbea-760b73ac7aac"
      },
      "execution_count": null,
      "outputs": [
        {
          "output_type": "execute_result",
          "data": {
            "text/plain": [
              "(22.348299321564912, 23.451700678435085)"
            ]
          },
          "metadata": {},
          "execution_count": 8
        }
      ]
    },
    {
      "cell_type": "markdown",
      "source": [
        "# Exercise 4"
      ],
      "metadata": {
        "id": "Jo55ywVBI__z"
      }
    },
    {
      "cell_type": "code",
      "source": [
        "from scipy import stats\n",
        "from math import sqrt\n",
        "\n",
        "c = 95/100\n",
        "zc = 1.96\n",
        "E = 1.5\n",
        "sigma = 7.9\n",
        "n = (zc * sigma / E)**2\n",
        "print(n)"
      ],
      "metadata": {
        "colab": {
          "base_uri": "https://localhost:8080/"
        },
        "id": "F8rV9bU4JDSm",
        "outputId": "a88a9cec-caa0-475e-9a55-f6c9bc55961d"
      },
      "execution_count": null,
      "outputs": [
        {
          "output_type": "stream",
          "name": "stdout",
          "text": [
            "106.55744711111112\n"
          ]
        }
      ]
    },
    {
      "cell_type": "markdown",
      "source": [
        "# Exercise 5"
      ],
      "metadata": {
        "id": "sYW0_ccXNltY"
      }
    },
    {
      "cell_type": "code",
      "source": [
        "from scipy import stats\n",
        "from math import sqrt\n",
        "\n",
        "e = 5/100\n",
        "N = 1000\n",
        "ne = N * (e)**2\n",
        "\n",
        "n = N / (1 + ne)\n",
        "print(f\"value sampling is : {n}\")"
      ],
      "metadata": {
        "colab": {
          "base_uri": "https://localhost:8080/"
        },
        "id": "ACG1xICZNn88",
        "outputId": "f069ce2d-9e04-42a9-8bb2-2dcdb7c0673a"
      },
      "execution_count": 10,
      "outputs": [
        {
          "output_type": "stream",
          "name": "stdout",
          "text": [
            "value sampling is : 285.71428571428567\n"
          ]
        }
      ]
    },
    {
      "cell_type": "code",
      "source": [
        "from scipy import stats\n",
        "import numpy as np\n",
        "import matplotlib.pyplot as plt\n",
        "\n",
        "def draw_z_score(x, cond, mu=0, sigma=1):\n",
        "    y = stats.norm.pdf(x, mu, sigma)\n",
        "    z = x[cond]\n",
        "    plt.plot(x, y)\n",
        "    plt.fill_between(z, 0, stats.norm.pdf(z, mu, sigma))\n",
        "    plt.show()\n",
        "\n",
        "x = np.arange(-3, 3, 0.001)\n",
        "draw_z_score(x, x<n)"
      ],
      "metadata": {
        "colab": {
          "base_uri": "https://localhost:8080/",
          "height": 265
        },
        "id": "GTS0HkpPQA42",
        "outputId": "eda3f76a-fe1d-4d0a-d841-7aca38ed8156"
      },
      "execution_count": 14,
      "outputs": [
        {
          "output_type": "display_data",
          "data": {
            "text/plain": [
              "<Figure size 432x288 with 1 Axes>"
            ],
            "image/png": "[encoded data removed]"
          },
          "metadata": {
            "needs_background": "light"
          }
        }
      ]
    }
  ]
}