{
  "nbformat": 4,
  "nbformat_minor": 0,
  "metadata": {
    "colab": {
      "name": "Confidence_Interval.ipynb",
      "provenance": [],
      "collapsed_sections": [],
      "authorship_tag": "ABX9TyNBl8tqtmuwHawI5rDEgMPO"
    },
    "kernelspec": {
      "name": "python3",
      "display_name": "Python 3"
    },
    "language_info": {
      "name": "python"
    }
  },
  "cells": [
    {
      "cell_type": "markdown",
      "source": [
        "# Exercise 1"
      ],
      "metadata": {
        "id": "ycSNCXffhStQ"
      }
    },
    {
      "cell_type": "code",
      "execution_count": null,
      "metadata": {
        "colab": {
          "base_uri": "https://localhost:8080/"
        },
        "id": "CFE9b8c7e_Wh",
        "outputId": "b8d3d66d-6ab8-49f0-f64d-1c38c856134d"
      },
      "outputs": [
        {
          "output_type": "stream",
          "name": "stdout",
          "text": [
            "E: 2.448190377603018\n"
          ]
        }
      ],
      "source": [
        "from scipy import stats\n",
        "import math \n",
        "\n",
        "c = 95/100\n",
        "sigma = 7.9\n",
        "n = 40\n",
        "p = 1 - ((1-c) / 2)\n",
        "\n",
        "zc = stats.norm.ppf(p)\n",
        "\n",
        "E = zc * sigma / math.sqrt(n)\n",
        "print(f'E: {E}')"
      ]
    },
    {
      "cell_type": "markdown",
      "source": [
        "# Exercise 2"
      ],
      "metadata": {
        "id": "tfh5eDYahV5m"
      }
    },
    {
      "cell_type": "code",
      "source": [
        "from scipy import stats\n",
        "import math\n",
        "\n",
        "n = 40\n",
        "sigma = 7.9\n",
        "x_bar = 29.6\n",
        "\n",
        "c = 95/100\n",
        "p = 1 - (1 - c)/ 2\n",
        "\n",
        "zc = stats.norm.ppf(p)\n",
        "E = zc * sigma / math.sqrt(n)\n",
        "\n",
        "print(f\"E : {E}\")\n",
        "print(f\"interval: from {x_bar - E} to {x_bar + E}\")"
      ],
      "metadata": {
        "colab": {
          "base_uri": "https://localhost:8080/"
        },
        "id": "MqQO_KmVhYii",
        "outputId": "918eb935-effe-40db-fd6c-a9d2df6e17d3"
      },
      "execution_count": 4,
      "outputs": [
        {
          "output_type": "stream",
          "name": "stdout",
          "text": [
            "E : 2.448190377603018\n",
            "interval: from 27.151809622396982 to 32.04819037760302\n"
          ]
        }
      ]
    },
    {
      "cell_type": "code",
      "source": [
        "from scipy import stats\n",
        "from math import sqrt\n",
        "\n",
        "n = 40\n",
        "sigma = 7.9\n",
        "x_bar = 29.6\n",
        "c = 95 / 100\n",
        "sigma_x_bar = sigma / sqrt(n)\n",
        "\n",
        "stats.norm.interval(c, loc = x_bar, scale = sigma_x_bar)"
      ],
      "metadata": {
        "colab": {
          "base_uri": "https://localhost:8080/"
        },
        "id": "yicuSEMziIRz",
        "outputId": "5e9c6a64-6e1b-4f77-b696-2f3556608ab9"
      },
      "execution_count": 3,
      "outputs": [
        {
          "output_type": "execute_result",
          "data": {
            "text/plain": [
              "(27.151809622396982, 32.04819037760302)"
            ]
          },
          "metadata": {},
          "execution_count": 3
        }
      ]
    }
  ]
}