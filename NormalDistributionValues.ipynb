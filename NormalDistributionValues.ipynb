{
  "nbformat": 4,
  "nbformat_minor": 0,
  "metadata": {
    "colab": {
      "name": "NormalDistributionValues.ipynb",
      "provenance": [],
      "collapsed_sections": [],
      "authorship_tag": "ABX9TyPiRpEsYa4sp8raOevKNM+t"
    },
    "kernelspec": {
      "name": "python3",
      "display_name": "Python 3"
    },
    "language_info": {
      "name": "python"
    }
  },
  "cells": [
    {
      "cell_type": "markdown",
      "source": [
        "# Exercise 1"
      ],
      "metadata": {
        "id": "eubF9g9-DdXi"
      }
    },
    {
      "cell_type": "code",
      "execution_count": 7,
      "metadata": {
        "colab": {
          "base_uri": "https://localhost:8080/"
        },
        "id": "XdjF8vgQDZAV",
        "outputId": "cbbc0aea-cfc5-4ec9-fa02-ee4e5ae8553a"
      },
      "outputs": [
        {
          "output_type": "stream",
          "name": "stdout",
          "text": [
            "-0.34991831705262144\n"
          ]
        }
      ],
      "source": [
        "from scipy import stats\n",
        "p = 0.3632\n",
        "z_score = stats.norm.ppf(p)\n",
        "print(z_score)"
      ]
    },
    {
      "cell_type": "code",
      "source": [
        "from scipy import stats\n",
        "import numpy as np\n",
        "import matplotlib.pyplot as plt\n",
        "\n",
        "def draw_z_score(x, cond, mu=0, sigma=1):\n",
        "    y = stats.norm.pdf(x, mu, sigma)\n",
        "    z = x[cond]\n",
        "    plt.plot(x, y, \"r\")\n",
        "    plt.fill_between(z, 0, stats.norm.pdf(z, mu, sigma))\n",
        "    plt.show()\n",
        "\n",
        "x = np.arange(-3, 3, 0.001)\n",
        "draw_z_score(x, x<z_score)"
      ],
      "metadata": {
        "colab": {
          "base_uri": "https://localhost:8080/",
          "height": 265
        },
        "id": "YFAEYPnbIsIH",
        "outputId": "ae374e69-32bf-4267-819c-de8f25dc8001"
      },
      "execution_count": 9,
      "outputs": [
        {
          "output_type": "display_data",
          "data": {
            "text/plain": [
              "<Figure size 432x288 with 1 Axes>"
            ],
            "image/png": "[encoded data removed]"
          },
          "metadata": {
            "needs_background": "light"
          }
        }
      ]
    }
  ]
}