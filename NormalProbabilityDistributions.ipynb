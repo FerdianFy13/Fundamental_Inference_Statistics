{
  "nbformat": 4,
  "nbformat_minor": 0,
  "metadata": {
    "colab": {
      "name": "NormalProbabilityDistributions.ipynb",
      "provenance": [],
      "collapsed_sections": [],
      "authorship_tag": "ABX9TyNX4tSJ3sqiPB4hJCuyvxyk"
    },
    "kernelspec": {
      "name": "python3",
      "display_name": "Python 3"
    },
    "language_info": {
      "name": "python"
    }
  },
  "cells": [
    {
      "cell_type": "markdown",
      "source": [
        "# Exercise 1"
      ],
      "metadata": {
        "id": "wQ6JLwUKCSug"
      }
    },
    {
      "cell_type": "code",
      "execution_count": 4,
      "metadata": {
        "colab": {
          "base_uri": "https://localhost:8080/"
        },
        "id": "7gDrfWfs8pZH",
        "outputId": "332ddbb9-07c9-4ab8-a6eb-8f48eb07c4de"
      },
      "outputs": [
        {
          "output_type": "stream",
          "name": "stdout",
          "text": [
            "0.022750131948179195\n"
          ]
        }
      ],
      "source": [
        "from scipy import stats\n",
        "\n",
        "x = 1\n",
        "z_score = -2\n",
        "p = stats.norm.cdf(z_score)\n",
        "print(p)"
      ]
    },
    {
      "cell_type": "code",
      "source": [
        "from scipy import stats\n",
        "import numpy as np\n",
        "import matplotlib.pyplot as plt\n",
        "\n",
        "def draw_z_score(x, cond, mu=0, sigma=1):\n",
        "    y = stats.norm.pdf(x, mu, sigma)\n",
        "    z = x[cond]\n",
        "    plt.plot(x, y)\n",
        "    plt.fill_between(z, 0, stats.norm.pdf(z, mu, sigma))\n",
        "    plt.show()\n",
        "\n",
        "x = np.arange(-3, 3, 0.001)\n",
        "draw_z_score(x, x<z_score)"
      ],
      "metadata": {
        "colab": {
          "base_uri": "https://localhost:8080/",
          "height": 265
        },
        "id": "VRx49TtwDYog",
        "outputId": "6601c7c4-d3fd-47e8-a692-7643b5baab43"
      },
      "execution_count": 5,
      "outputs": [
        {
          "output_type": "display_data",
          "data": {
            "text/plain": [
              "<Figure size 432x288 with 1 Axes>"
            ],
            "image/png": "[encoded data removed]"
          },
          "metadata": {
            "needs_background": "light"
          }
        }
      ]
    }
  ]
}