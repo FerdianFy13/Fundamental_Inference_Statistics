{
  "nbformat": 4,
  "nbformat_minor": 0,
  "metadata": {
    "colab": {
      "name": "Confidence_Interval_Proportion.ipynb",
      "provenance": [],
      "authorship_tag": "ABX9TyOXzWcp5pnLqPFIL0N9/0rP"
    },
    "kernelspec": {
      "name": "python3",
      "display_name": "Python 3"
    },
    "language_info": {
      "name": "python"
    }
  },
  "cells": [
    {
      "cell_type": "markdown",
      "source": [
        "# Exercise 1"
      ],
      "metadata": {
        "id": "pje_Ct8Eir8Q"
      }
    },
    {
      "cell_type": "code",
      "execution_count": 9,
      "metadata": {
        "colab": {
          "base_uri": "https://localhost:8080/"
        },
        "id": "Wt0_D2xtYC52",
        "outputId": "91d6db3c-95f2-462b-be75-43e6639d8555"
      },
      "outputs": [
        {
          "output_type": "stream",
          "name": "stdout",
          "text": [
            "zc: 1.9623414611334487\n",
            "E: 0.029993411898275826\n",
            "left endpoint  : 0.3420065881017242\n",
            "right endpoint : 0.4019934118982758\n"
          ]
        },
        {
          "output_type": "execute_result",
          "data": {
            "text/plain": [
              "(0.3420065881017242, 0.4019934118982758)"
            ]
          },
          "metadata": {},
          "execution_count": 9
        }
      ],
      "source": [
        "from scipy.stats import t\n",
        "from math import sqrt\n",
        "\n",
        "n = 1000\n",
        "df = n - 1\n",
        "c = 95 / 100\n",
        "\n",
        "p_hat = 0.372\n",
        "q_hat = 1 - p_hat\n",
        "\n",
        "zc = t.ppf(1 - ((1 - c) / 2), df)\n",
        "print(f\"zc: {zc}\")\n",
        "\n",
        "E = zc * sqrt(p_hat * q_hat / n)\n",
        "print(f\"E: {E}\")\n",
        "print(f\"left endpoint  : {p_hat - E}\")\n",
        "print(f\"right endpoint : {p_hat + E}\")\n",
        "\n",
        "# or\n",
        "t.interval(c, df, loc = p_hat, scale = sqrt(p_hat * q_hat / n))"
      ]
    },
    {
      "cell_type": "markdown",
      "source": [
        "# Exercise 2"
      ],
      "metadata": {
        "id": "IU5_QhADivPy"
      }
    },
    {
      "cell_type": "code",
      "source": [
        "from scipy.stats import t\n",
        "from math import sqrt\n",
        "\n",
        "n = 498\n",
        "df = n - 1\n",
        "c = 99/100\n",
        "p_hat = 71/100\n",
        "q_hat = 1 - p_hat\n",
        "\n",
        "zc = t.ppf(1 - ((1 - c) / 2), df)\n",
        "print(f\"zc: {zc}\")\n",
        "\n",
        "E = zc * sqrt(p_hat * q_hat / n)\n",
        "print(f\"E: {E}\")\n",
        "\n",
        "t.interval(c, df, loc = p_hat, scale = sqrt(p_hat * q_hat / n))"
      ],
      "metadata": {
        "colab": {
          "base_uri": "https://localhost:8080/"
        },
        "id": "JD9bKAy1kWhw",
        "outputId": "a9060b7a-9e68-43de-e1da-603bb9706092"
      },
      "execution_count": 12,
      "outputs": [
        {
          "output_type": "stream",
          "name": "stdout",
          "text": [
            "zc: 2.585757619531686\n",
            "E: 0.052577667429680196\n"
          ]
        },
        {
          "output_type": "execute_result",
          "data": {
            "text/plain": [
              "(0.6574223325703198, 0.7625776674296801)"
            ]
          },
          "metadata": {},
          "execution_count": 12
        }
      ]
    }
  ]
}