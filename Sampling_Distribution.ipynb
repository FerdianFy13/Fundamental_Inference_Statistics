{
  "nbformat": 4,
  "nbformat_minor": 0,
  "metadata": {
    "colab": {
      "name": "Sampling_Distribution.ipynb",
      "provenance": [],
      "collapsed_sections": [],
      "authorship_tag": "ABX9TyNEZWihvHhdkfM8klk3Sosg"
    },
    "kernelspec": {
      "name": "python3",
      "display_name": "Python 3"
    },
    "language_info": {
      "name": "python"
    }
  },
  "cells": [
    {
      "cell_type": "markdown",
      "source": [
        "# Exercise 1"
      ],
      "metadata": {
        "id": "X0wVrBOqG9lC"
      }
    },
    {
      "cell_type": "code",
      "execution_count": 1,
      "metadata": {
        "id": "g7T_3qpDsWF4",
        "colab": {
          "base_uri": "https://localhost:8080/"
        },
        "outputId": "7b1c2fb9-df3a-4191-b995-28f4698815ca"
      },
      "outputs": [
        {
          "output_type": "stream",
          "name": "stdout",
          "text": [
            "z1 = -1.4142135623730985\n",
            "z2 = 2.3570226039551585\n"
          ]
        }
      ],
      "source": [
        "from scipy import stats\n",
        "import math\n",
        "\n",
        "mu = 25\n",
        "n = 50\n",
        "sigma = 1.5\n",
        "x1, x2 = 24.7, 25.5\n",
        "\n",
        "z1 = (x1 - mu) / (sigma / math.sqrt(n))\n",
        "z2 = (x2 - mu) / (sigma / math.sqrt(n))\n",
        "print(f\"z1 = {z1}\")\n",
        "print(f\"z2 = {z2}\")"
      ]
    }
  ]
}