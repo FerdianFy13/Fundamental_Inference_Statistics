{
  "nbformat": 4,
  "nbformat_minor": 0,
  "metadata": {
    "colab": {
      "name": "Sampling_Distribution.ipynb",
      "provenance": [],
      "collapsed_sections": [],
      "authorship_tag": "ABX9TyN8/k8ZPPwkhk51TSyfdIaB"
    },
    "kernelspec": {
      "name": "python3",
      "display_name": "Python 3"
    },
    "language_info": {
      "name": "python"
    }
  },
  "cells": [
    {
      "cell_type": "markdown",
      "source": [
        "# Exercise 1"
      ],
      "metadata": {
        "id": "X0wVrBOqG9lC"
      }
    },
    {
      "cell_type": "code",
      "execution_count": null,
      "metadata": {
        "id": "g7T_3qpDsWF4",
        "colab": {
          "base_uri": "https://localhost:8080/"
        },
        "outputId": "17298240-5a54-4619-f510-e24170fc1606"
      },
      "outputs": [
        {
          "output_type": "stream",
          "name": "stdout",
          "text": [
            "z1 = -1.4142135623730985\n",
            "z2 = 2.3570226039551585\n",
            "p = 0.9121393337478084\n"
          ]
        }
      ],
      "source": [
        "from scipy import stats\n",
        "import math\n",
        "\n",
        "mu = 25\n",
        "n = 50\n",
        "sigma = 1.5\n",
        "x1, x2 = 24.7, 25.5\n",
        "\n",
        "z1 = (x1 - mu) / (sigma / math.sqrt(n))\n",
        "z2 = (x2 - mu) / (sigma / math.sqrt(n))\n",
        "print(f\"z1 = {z1}\")\n",
        "print(f\"z2 = {z2}\")\n",
        "\n",
        "p = stats.norm.cdf(z2) - stats.norm.cdf(z1)\n",
        "print(f\"p = {p}\") "
      ]
    },
    {
      "cell_type": "code",
      "source": [
        "from scipy import stats\n",
        "import numpy as np\n",
        "import matplotlib.pyplot as plt\n",
        "\n",
        "def draw_z_score(x, cond, mu=0, sigma=1):\n",
        "    y = stats.norm.pdf(x, mu, sigma)\n",
        "    z = x[cond]\n",
        "    plt.plot(x, y, \"r\")\n",
        "    plt.fill_between(z, 0, stats.norm.pdf(z, mu, sigma))\n",
        "    plt.show()\n",
        "\n",
        "x = np.arange(-3, 3, 0.001)\n",
        "draw_z_score(x, (z1<x) & (x<z2))"
      ],
      "metadata": {
        "colab": {
          "base_uri": "https://localhost:8080/",
          "height": 265
        },
        "id": "V5ffqf4iJwaC",
        "outputId": "61c943b4-c00d-49fc-b64c-744c5e8a64eb"
      },
      "execution_count": null,
      "outputs": [
        {
          "output_type": "display_data",
          "data": {
            "text/plain": [
              "<Figure size 432x288 with 1 Axes>"
            ],
            "image/png": "[encoded data removed]"
          },
          "metadata": {
            "needs_background": "light"
          }
        }
      ]
    },
    {
      "cell_type": "markdown",
      "source": [
        "# Exercise 2"
      ],
      "metadata": {
        "id": "fDGMOiJ_Kuqq"
      }
    },
    {
      "cell_type": "code",
      "source": [
        "from scipy import stats\n",
        "import math\n",
        "\n",
        "mu = 9126\n",
        "n = 9\n",
        "sigma = 1500\n",
        "x = 9400\n",
        "\n",
        "z_score = (x - mu) / (sigma / math.sqrt(n))\n",
        "print(f\"z_score = {z_score}\")\n",
        "\n",
        "p = stats.norm.cdf(z_score)\n",
        "print(f\"p = {p}\") "
      ],
      "metadata": {
        "colab": {
          "base_uri": "https://localhost:8080/"
        },
        "id": "Na5BdxrGKx4h",
        "outputId": "a6f2e2bd-38ce-499f-e1bb-07bacc58a401"
      },
      "execution_count": null,
      "outputs": [
        {
          "output_type": "stream",
          "name": "stdout",
          "text": [
            "z_score = 0.548\n",
            "p = 0.7081540485826512\n"
          ]
        }
      ]
    },
    {
      "cell_type": "code",
      "source": [
        "from scipy import stats\n",
        "import numpy as np\n",
        "import matplotlib.pyplot as plt\n",
        "\n",
        "def draw_z_score(x, cond, mu=0, sigma=1):\n",
        "    y = stats.norm.pdf(x, mu, sigma)\n",
        "    z = x[cond]\n",
        "    plt.plot(x, y, \"g--\")\n",
        "    plt.fill_between(z, 0, stats.norm.pdf(z, mu, sigma))\n",
        "    plt.show()\n",
        "\n",
        "x = np.arange(-3, 3, 0.001)\n",
        "draw_z_score(x, (x<z_score))"
      ],
      "metadata": {
        "colab": {
          "base_uri": "https://localhost:8080/",
          "height": 265
        },
        "id": "Q7wqpkzzLSX4",
        "outputId": "184c0a08-cf5a-40db-ba21-4d4fdd3c7deb"
      },
      "execution_count": null,
      "outputs": [
        {
          "output_type": "display_data",
          "data": {
            "text/plain": [
              "<Figure size 432x288 with 1 Axes>"
            ],
            "image/png": "[encoded data removed]"
          },
          "metadata": {
            "needs_background": "light"
          }
        }
      ]
    },
    {
      "cell_type": "markdown",
      "source": [
        "# Exercise 3"
      ],
      "metadata": {
        "id": "druMFy92X6Cr"
      }
    },
    {
      "cell_type": "code",
      "source": [
        "from scipy import stats\n",
        "mu = 3173\n",
        "sigma = 1120\n",
        "x = 2700 \n",
        "\n",
        "z_score = (x - mu) / sigma\n",
        "print(f'z-score: {z_score}')\n",
        "\n",
        "p = stats.norm.cdf(z_score)\n",
        "print(f'p: {p}')"
      ],
      "metadata": {
        "colab": {
          "base_uri": "https://localhost:8080/"
        },
        "id": "5lVdIFtdX-Nc",
        "outputId": "1113173c-884c-4dab-b28a-b20c2151fe7c"
      },
      "execution_count": 1,
      "outputs": [
        {
          "output_type": "stream",
          "name": "stdout",
          "text": [
            "z-score: -0.42232142857142857\n",
            "p: 0.3363952096371293\n"
          ]
        }
      ]
    },
    {
      "cell_type": "code",
      "source": [
        "from scipy import stats\n",
        "import numpy as np\n",
        "import matplotlib.pyplot as plt\n",
        "\n",
        "def draw_z_score(x, cond, mu=0, sigma=1):\n",
        "    y = stats.norm.pdf(x, mu, sigma)\n",
        "    z = x[cond]\n",
        "    plt.plot(x, y, \"y\")\n",
        "    plt.fill_between(z, 0, stats.norm.pdf(z, mu, sigma))\n",
        "    plt.show()\n",
        "\n",
        "x = np.arange(-3, 3, 0.001)\n",
        "draw_z_score(x, (x<z_score))"
      ],
      "metadata": {
        "colab": {
          "base_uri": "https://localhost:8080/",
          "height": 265
        },
        "id": "WDH-2x6zYMF5",
        "outputId": "80229a20-e4e7-49c6-a5ed-f08a776743d8"
      },
      "execution_count": 5,
      "outputs": [
        {
          "output_type": "display_data",
          "data": {
            "text/plain": [
              "<Figure size 432x288 with 1 Axes>"
            ],
            "image/png": "[encoded data removed]"
          },
          "metadata": {
            "needs_background": "light"
          }
        }
      ]
    }
  ]
}