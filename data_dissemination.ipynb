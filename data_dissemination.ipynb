{
  "nbformat": 4,
  "nbformat_minor": 0,
  "metadata": {
    "colab": {
      "name": "data_dissemination.ipynb",
      "provenance": [],
      "collapsed_sections": [],
      "authorship_tag": "ABX9TyNgIpQJ8EfUvJD8ketXpy3A"
    },
    "kernelspec": {
      "name": "python3",
      "display_name": "Python 3"
    },
    "language_info": {
      "name": "python"
    }
  },
  "cells": [
    {
      "cell_type": "code",
      "execution_count": 9,
      "metadata": {
        "colab": {
          "base_uri": "https://localhost:8080/"
        },
        "id": "0h-sTI7NKuTx",
        "outputId": "a0e45f67-1f4e-448e-b378-bd3f6445bedb"
      },
      "outputs": [
        {
          "output_type": "stream",
          "name": "stdout",
          "text": [
            "middle value a is 158.0\n",
            "result a is 316.0\n",
            "a squared is 24964.0\n",
            "result calculate is 49928.0\n",
            "\n",
            "middle value b is 163.0\n",
            "result b is 326.0\n",
            "b squared is 26569.0\n",
            "result calculate is 53138.0\n",
            "\n",
            "middle value c is 168.0\n",
            "result c is 336.0\n",
            "c squared is 28224.0\n",
            "result calculate is 56448.0\n",
            "\n",
            "middle value d is 173.0\n",
            "result d is 346.0\n",
            "d squared is 29929.0\n",
            "result calculate is 59858.0\n",
            "\n",
            "~~~Task Statistics for Average~~~\n",
            "a. average is 165.5\n",
            "\n",
            "~~~Task Statistics for Deviation Average~~~\n",
            "deviation average a is 15.0\n",
            "deviation average b is 5.0\n",
            "deviation average c is 5.0\n",
            "deviation average d is 15.0\n",
            "b. deviation average result is 5.0\n",
            "\n",
            "~~~Task Statistics for Deviation Standard~~~\n",
            "c. standard deviation result is 5.5901699437494745\n",
            "\n"
          ]
        }
      ],
      "source": [
        "from scipy import stats\n",
        "from math import sqrt\n",
        "\n",
        "a1 = (156 + 160) / 2\n",
        "print(f\"middle value a is {a1}\")\n",
        "a2 = 2\n",
        "result1 = a1 * 2\n",
        "print(f\"result a is {result1}\")\n",
        "pow_a1 = pow(a1, 2)\n",
        "print(f\"a squared is {pow_a1}\")\n",
        "pow_result1 = pow_a1 * a2\n",
        "print(f\"result calculate is {pow_result1}\\n\")\n",
        "\n",
        "b1 = (161 + 165) / 2\n",
        "print(f\"middle value b is {b1}\")\n",
        "b2 = 2\n",
        "result2 = b1 * 2\n",
        "print(f\"result b is {result2}\")\n",
        "pow_b1 = pow(b1, 2)\n",
        "print(f\"b squared is {pow_b1}\")\n",
        "pow_result2 = pow_b1 * b2\n",
        "print(f\"result calculate is {pow_result2}\\n\")\n",
        "\n",
        "c1 = (166 + 170) / 2\n",
        "print(f\"middle value c is {c1}\")\n",
        "c2 = 2\n",
        "result3 = c1 * 2\n",
        "print(f\"result c is {result3}\")\n",
        "pow_c1 = pow(c1, 2)\n",
        "print(f\"c squared is {pow_c1}\")\n",
        "pow_result3 = pow_c1 * c2\n",
        "print(f\"result calculate is {pow_result3}\\n\")\n",
        "\n",
        "d1 = (171 + 175) / 2\n",
        "print(f\"middle value d is {d1}\")\n",
        "d2 = 2\n",
        "result4 = d1 * 2\n",
        "print(f\"result d is {result4}\")\n",
        "pow_d1 = pow(d1, 2)\n",
        "print(f\"d squared is {pow_d1}\")\n",
        "pow_result4 = pow_d1 * d2\n",
        "print(f\"result calculate is {pow_result4}\\n\")\n",
        "\n",
        "print(\"~~~Task Statistics for Average~~~\")\n",
        "average = (result1 + result2 + result3 + result4) / (a2 + b2 + c2 + d2)\n",
        "print(f\"a. average is {average}\\n\")\n",
        "\n",
        "print(\"~~~Task Statistics for Deviation Average~~~\")\n",
        "deviation_avg1 = a2 * abs(a1 - average)\n",
        "print(f\"deviation average a is {deviation_avg1}\")\n",
        "deviation_avg2 = b2 * abs(b1 - average)\n",
        "print(f\"deviation average b is {deviation_avg2}\")\n",
        "deviation_avg3 = c2 * abs(c1 - average)\n",
        "print(f\"deviation average c is {deviation_avg3}\")\n",
        "deviation_avg4 = d2 * abs(d1 - average)\n",
        "print(f\"deviation average d is {deviation_avg4}\")\n",
        "result_devavg = (deviation_avg1 + deviation_avg2 + deviation_avg3 + deviation_avg4) / (a2 + b2 + c2 + d2)\n",
        "print(f\"b. deviation average result is {result_devavg}\\n\")\n",
        "\n",
        "print(\"~~~Task Statistics for Deviation Standard~~~\")\n",
        "result_std = (pow_result1 + pow_result2 + pow_result3 + pow_result4) / (a2 + b2 + c2 + d2)\n",
        "std_dev = sqrt(result_std - pow(average, 2))\n",
        "print(f\"c. standard deviation result is {std_dev}\\n\")"
      ]
    },
    {
      "cell_type": "code",
      "source": [
        ""
      ],
      "metadata": {
        "id": "egGyS03EMIQ7"
      },
      "execution_count": null,
      "outputs": []
    }
  ]
}