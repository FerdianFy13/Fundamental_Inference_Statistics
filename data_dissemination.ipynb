{
  "nbformat": 4,
  "nbformat_minor": 0,
  "metadata": {
    "colab": {
      "name": "data_dissemination.ipynb",
      "provenance": [],
      "collapsed_sections": [],
      "authorship_tag": "ABX9TyMFW0/U55RcKyqJ6Jj6TRwt"
    },
    "kernelspec": {
      "name": "python3",
      "display_name": "Python 3"
    },
    "language_info": {
      "name": "python"
    }
  },
  "cells": [
    {
      "cell_type": "code",
      "execution_count": 26,
      "metadata": {
        "colab": {
          "base_uri": "https://localhost:8080/"
        },
        "id": "0h-sTI7NKuTx",
        "outputId": "c5109deb-2f72-4e13-b626-f445407be46f"
      },
      "outputs": [
        {
          "output_type": "stream",
          "name": "stdout",
          "text": [
            "middle value a is 158.0\n",
            "result a is 316.0\n",
            "\n",
            "is 24964.0\n",
            "middle value b is 163.0\n",
            "result b is 326.0\n",
            "\n",
            "middle value c is 168.0\n",
            "result c is 336.0\n",
            "\n",
            "middle value d is 173.0\n",
            "result d is 346.0\n",
            "\n",
            "~~~Task Statistics for Average~~~\n",
            "a. average is 165.5\n",
            "\n",
            "~~~Task Statistics for Deviation Average~~~\n",
            "deviation average a is 15.0\n",
            "deviation average b is 5.0\n",
            "deviation average c is 5.0\n",
            "deviation average d is 15.0\n",
            "b. deviation average result is 5.0\n",
            "\n"
          ]
        }
      ],
      "source": [
        "from scipy import stats\n",
        "from math import sqrt\n",
        "\n",
        "a1 = (156 + 160) / 2\n",
        "print(f\"middle value a is {a1}\")\n",
        "a2 = 2\n",
        "result1 = a1 * 2\n",
        "print(f\"result a is {result1}\\n\")\n",
        "powa = pow(a1, 2)\n",
        "print(f\"is {powa}\")\n",
        "\n",
        "b1 = (161 + 165) / 2\n",
        "print(f\"middle value b is {b1}\")\n",
        "b2 = 2\n",
        "result2 = b1 * 2\n",
        "print(f\"result b is {result2}\\n\")\n",
        "\n",
        "c1 = (166 + 170) / 2\n",
        "print(f\"middle value c is {c1}\")\n",
        "c2 = 2\n",
        "result3 = c1 * 2\n",
        "print(f\"result c is {result3}\\n\")\n",
        "\n",
        "d1 = (171 + 175) / 2\n",
        "print(f\"middle value d is {d1}\")\n",
        "d2 = 2\n",
        "result4 = d1 * 2\n",
        "print(f\"result d is {result4}\\n\")\n",
        "\n",
        "print(\"~~~Task Statistics for Average~~~\")\n",
        "average = (result1 + result2 + result3 + result4) / (a2 + b2 + c2 + d2)\n",
        "print(f\"a. average is {average}\\n\")\n",
        "\n",
        "print(\"~~~Task Statistics for Deviation Average~~~\")\n",
        "deviation_avg1 = a2 * abs(a1 - average)\n",
        "print(f\"deviation average a is {deviation_avg1}\")\n",
        "deviation_avg2 = b2 * abs(b1 - average)\n",
        "print(f\"deviation average b is {deviation_avg2}\")\n",
        "deviation_avg3 = c2 * abs(c1 - average)\n",
        "print(f\"deviation average c is {deviation_avg3}\")\n",
        "deviation_avg4 = d2 * abs(d1 - average)\n",
        "print(f\"deviation average d is {deviation_avg4}\")\n",
        "result_devavg = (deviation_avg1 + deviation_avg2 + deviation_avg3 + deviation_avg4) / (a2 + b2 + c2 + d2)\n",
        "print(f\"b. deviation average result is {result_devavg}\\n\")"
      ]
    },
    {
      "cell_type": "code",
      "source": [
        ""
      ],
      "metadata": {
        "id": "egGyS03EMIQ7"
      },
      "execution_count": null,
      "outputs": []
    }
  ]
}