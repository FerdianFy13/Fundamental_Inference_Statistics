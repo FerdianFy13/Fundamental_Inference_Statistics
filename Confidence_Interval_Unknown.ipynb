{
  "nbformat": 4,
  "nbformat_minor": 0,
  "metadata": {
    "colab": {
      "name": "Confidence_Interval_Unknown.ipynb",
      "provenance": [],
      "authorship_tag": "ABX9TyOInfDXMc8Rz5UNPWvmc2vD"
    },
    "kernelspec": {
      "name": "python3",
      "display_name": "Python 3"
    },
    "language_info": {
      "name": "python"
    }
  },
  "cells": [
    {
      "cell_type": "markdown",
      "source": [
        "# Exercise 1"
      ],
      "metadata": {
        "id": "KBJLY6jWJd5M"
      }
    },
    {
      "cell_type": "code",
      "execution_count": 1,
      "metadata": {
        "colab": {
          "base_uri": "https://localhost:8080/"
        },
        "id": "jwxvEIs_9Sqv",
        "outputId": "ea4b379c-c0f8-4f1f-a351-c5f34cc5f6f5"
      },
      "outputs": [
        {
          "output_type": "stream",
          "name": "stdout",
          "text": [
            "tc : 2.1447866879169273\n"
          ]
        }
      ],
      "source": [
        "from scipy.stats import t\n",
        "\n",
        "n = 15\n",
        "df = n - 1\n",
        "c = 95/100\n",
        "p = 1 - ((1-c)/2)\n",
        "\n",
        "tc = t.ppf(p, df)\n",
        "print(f\"tc : {tc}\")"
      ]
    }
  ]
}