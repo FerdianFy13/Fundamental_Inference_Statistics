{
  "nbformat": 4,
  "nbformat_minor": 0,
  "metadata": {
    "colab": {
      "name": "Confidence_Interval_Unknown.ipynb",
      "provenance": [],
      "authorship_tag": "ABX9TyMav8i7PQMlK2LC6FjOL+yS"
    },
    "kernelspec": {
      "name": "python3",
      "display_name": "Python 3"
    },
    "language_info": {
      "name": "python"
    }
  },
  "cells": [
    {
      "cell_type": "markdown",
      "source": [
        "# Exercise 1"
      ],
      "metadata": {
        "id": "KBJLY6jWJd5M"
      }
    },
    {
      "cell_type": "code",
      "execution_count": null,
      "metadata": {
        "colab": {
          "base_uri": "https://localhost:8080/"
        },
        "id": "jwxvEIs_9Sqv",
        "outputId": "ea4b379c-c0f8-4f1f-a351-c5f34cc5f6f5"
      },
      "outputs": [
        {
          "output_type": "stream",
          "name": "stdout",
          "text": [
            "tc : 2.1447866879169273\n"
          ]
        }
      ],
      "source": [
        "from scipy.stats import t\n",
        "\n",
        "n = 15\n",
        "df = n - 1\n",
        "c = 95/100\n",
        "p = 1 - ((1-c)/2)\n",
        "\n",
        "tc = t.ppf(p, df)\n",
        "print(f\"tc : {tc}\")"
      ]
    },
    {
      "cell_type": "markdown",
      "source": [
        "# Exercise 2"
      ],
      "metadata": {
        "id": "bybgoNxbmVVf"
      }
    },
    {
      "cell_type": "code",
      "source": [
        "# constructiong a confidence interval \n",
        "# use my way\n",
        "from scipy.stats import t\n",
        "from math import sqrt\n",
        "\n",
        "n = 16\n",
        "df = n -1\n",
        "c = 95/100\n",
        "x_bar = 162\n",
        "s = 10\n",
        "\n",
        "p = 1 - ((1 - c) / 2)\n",
        "tc = t.ppf(p, df)\n",
        "E = tc * s / sqrt(n)\n",
        "\n",
        "print(f\"tc is {tc}\")\n",
        "print(f\"E is {E}\")\n",
        "\n",
        "# confidence interval is left and right endpoints\n",
        "t.interval(c, df, loc = x_bar, scale = s / sqrt(n))"
      ],
      "metadata": {
        "colab": {
          "base_uri": "https://localhost:8080/"
        },
        "id": "sJOMFwRhmaFt",
        "outputId": "ac103917-5b80-41e2-b709-6da61274280a"
      },
      "execution_count": 3,
      "outputs": [
        {
          "output_type": "stream",
          "name": "stdout",
          "text": [
            "tc is 2.131449545559323\n",
            "E is 5.328623863898308\n"
          ]
        },
        {
          "output_type": "execute_result",
          "data": {
            "text/plain": [
              "(156.67137613610169, 167.32862386389831)"
            ]
          },
          "metadata": {},
          "execution_count": 3
        }
      ]
    },
    {
      "cell_type": "code",
      "source": [
        "# cara duafrom scipy.stats import t\n",
        "from math import sqrt\n",
        "\n",
        "n = 16\n",
        "df = n -1\n",
        "c = 95/100\n",
        "s = 10\n",
        "x_bar = 162\n",
        "\n",
        "p = 1 - ((1 - c) / 2)\n",
        "tc = t.ppf(p, df)\n",
        "print(f\"tc: {tc}\")\n",
        "\n",
        "E = tc * s / sqrt(n)\n",
        "print(f\"E: {E}\")\n",
        "\n",
        "print(f\"left end point : {x_bar - E}\")\n",
        "print(f\"right end point: {x_bar + E}\")"
      ],
      "metadata": {
        "colab": {
          "base_uri": "https://localhost:8080/"
        },
        "id": "FOmmkc17nrTf",
        "outputId": "587290b8-d22e-4dbd-8316-d58e7c3b93cf"
      },
      "execution_count": 8,
      "outputs": [
        {
          "output_type": "stream",
          "name": "stdout",
          "text": [
            "tc: 2.131449545559323\n",
            "E: 5.328623863898308\n",
            "left end point : 156.67137613610169\n",
            "right end point: 167.32862386389831\n"
          ]
        }
      ]
    },
    {
      "cell_type": "code",
      "source": [
        "# cara singkat\n",
        "from scipy.stats import t\n",
        "from math import sqrt\n",
        "\n",
        "n = 16\n",
        "df = n - 1\n",
        "c = 95 / 100\n",
        "s = 10\n",
        "x_bar = 162\n",
        "\n",
        "t.interval(c, df, loc = x_bar, scale = s / sqrt(n))"
      ],
      "metadata": {
        "colab": {
          "base_uri": "https://localhost:8080/"
        },
        "id": "B3qMXFextHcI",
        "outputId": "779fa6ae-c345-4c9f-a92e-506027533229"
      },
      "execution_count": 9,
      "outputs": [
        {
          "output_type": "execute_result",
          "data": {
            "text/plain": [
              "(156.67137613610169, 167.32862386389831)"
            ]
          },
          "metadata": {},
          "execution_count": 9
        }
      ]
    },
    {
      "cell_type": "markdown",
      "source": [
        "# Exercise 3"
      ],
      "metadata": {
        "id": "EMai85-FvObZ"
      }
    },
    {
      "cell_type": "code",
      "source": [
        "from scipy.stats import t\n",
        "from math import sqrt\n",
        "\n",
        "n = 36\n",
        "df = n - 1\n",
        "c = 99 / 100\n",
        "s = 2.39\n",
        "x_bar = 9.75\n",
        "\n",
        "t.interval(c, df, loc = x_bar, scale = s / sqrt(n))"
      ],
      "metadata": {
        "colab": {
          "base_uri": "https://localhost:8080/"
        },
        "id": "1rW1hhCZvQYe",
        "outputId": "fc41efae-fdfd-4c25-f077-0b1ca63e1dec"
      },
      "execution_count": 10,
      "outputs": [
        {
          "output_type": "execute_result",
          "data": {
            "text/plain": [
              "(8.665017440298794, 10.834982559701206)"
            ]
          },
          "metadata": {},
          "execution_count": 10
        }
      ]
    },
    {
      "cell_type": "markdown",
      "source": [
        "# Exercise 4"
      ],
      "metadata": {
        "id": "RShrxnK5zZZI"
      }
    },
    {
      "cell_type": "code",
      "source": [
        "from scipy import stats\n",
        "from math import sqrt\n",
        "\n",
        "n = 25\n",
        "df = n - 1\n",
        "c = 95 / 100\n",
        "sigma = 28.000\n",
        "x_bar = 181.000\n",
        "\n",
        "p = 1 - ((1 - c) / 2)\n",
        "zc = stats.norm.ppf(p)\n",
        "print(zc)\n",
        "\n",
        "stats.norm.interval(c, loc = x_bar, scale = sigma / sqrt(n))\n"
      ],
      "metadata": {
        "colab": {
          "base_uri": "https://localhost:8080/"
        },
        "id": "stONmCcUzbZY",
        "outputId": "db6983a5-33f5-4758-9ace-5a3e89d7ad6d"
      },
      "execution_count": 14,
      "outputs": [
        {
          "output_type": "stream",
          "name": "stdout",
          "text": [
            "1.959963984540054\n"
          ]
        },
        {
          "output_type": "execute_result",
          "data": {
            "text/plain": [
              "(170.0242016865757, 191.9757983134243)"
            ]
          },
          "metadata": {},
          "execution_count": 14
        }
      ]
    }
  ]
}