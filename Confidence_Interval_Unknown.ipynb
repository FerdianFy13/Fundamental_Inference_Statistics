{
  "nbformat": 4,
  "nbformat_minor": 0,
  "metadata": {
    "colab": {
      "name": "Confidence_Interval_Unknown.ipynb",
      "provenance": [],
      "authorship_tag": "ABX9TyO5oOMqX9nPfBDSCEqHXHOV"
    },
    "kernelspec": {
      "name": "python3",
      "display_name": "Python 3"
    },
    "language_info": {
      "name": "python"
    }
  },
  "cells": [
    {
      "cell_type": "markdown",
      "source": [
        "# Exercise 1"
      ],
      "metadata": {
        "id": "KBJLY6jWJd5M"
      }
    },
    {
      "cell_type": "code",
      "execution_count": null,
      "metadata": {
        "colab": {
          "base_uri": "https://localhost:8080/"
        },
        "id": "jwxvEIs_9Sqv",
        "outputId": "ea4b379c-c0f8-4f1f-a351-c5f34cc5f6f5"
      },
      "outputs": [
        {
          "output_type": "stream",
          "name": "stdout",
          "text": [
            "tc : 2.1447866879169273\n"
          ]
        }
      ],
      "source": [
        "from scipy.stats import t\n",
        "\n",
        "n = 15\n",
        "df = n - 1\n",
        "c = 95/100\n",
        "p = 1 - ((1-c)/2)\n",
        "\n",
        "tc = t.ppf(p, df)\n",
        "print(f\"tc : {tc}\")"
      ]
    },
    {
      "cell_type": "markdown",
      "source": [
        "# Exercise 2"
      ],
      "metadata": {
        "id": "bybgoNxbmVVf"
      }
    },
    {
      "cell_type": "code",
      "source": [
        "# constructiong a confidence interval \n",
        "# use my way\n",
        "from scipy.stats import t\n",
        "from math import sqrt\n",
        "\n",
        "n = 16\n",
        "df = n -1\n",
        "c = 95/100\n",
        "x_bar = 162\n",
        "s = 10\n",
        "\n",
        "p = 1 - ((1 - c) / 2)\n",
        "tc = t.ppf(p, df)\n",
        "E = tc * s / sqrt(n)\n",
        "\n",
        "print(f\"tc is {tc}\")\n",
        "print(f\"E is {E}\")\n",
        "\n",
        "# confidence interval is left and right endpoints\n",
        "t.interval(c, df, loc = x_bar, scale = s / sqrt(n))"
      ],
      "metadata": {
        "colab": {
          "base_uri": "https://localhost:8080/"
        },
        "id": "sJOMFwRhmaFt",
        "outputId": "ac103917-5b80-41e2-b709-6da61274280a"
      },
      "execution_count": 3,
      "outputs": [
        {
          "output_type": "stream",
          "name": "stdout",
          "text": [
            "tc is 2.131449545559323\n",
            "E is 5.328623863898308\n"
          ]
        },
        {
          "output_type": "execute_result",
          "data": {
            "text/plain": [
              "(156.67137613610169, 167.32862386389831)"
            ]
          },
          "metadata": {},
          "execution_count": 3
        }
      ]
    },
    {
      "cell_type": "code",
      "source": [
        ""
      ],
      "metadata": {
        "id": "FOmmkc17nrTf"
      },
      "execution_count": null,
      "outputs": []
    }
  ]
}